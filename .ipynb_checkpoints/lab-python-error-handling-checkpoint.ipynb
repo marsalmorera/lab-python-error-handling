{
 "cells": [
  {
   "cell_type": "markdown",
   "id": "25d7736c-ba17-4aff-b6bb-66eba20fbf4e",
   "metadata": {},
   "source": [
    "# Lab | Error Handling"
   ]
  },
  {
   "cell_type": "markdown",
   "id": "bc99b386-7508-47a0-bcdb-d969deaf6c8b",
   "metadata": {},
   "source": [
    "## Exercise: Error Handling for Managing Customer Orders\n",
    "\n",
    "The implementation of your code for managing customer orders assumes that the user will always enter a valid input. \n",
    "\n",
    "For example, we could modify the `initialize_inventory` function to include error handling.\n",
    "   - If the user enters an invalid quantity (e.g., a negative value or a non-numeric value), display an error message and ask them to re-enter the quantity for that product.\n",
    "   - Use a try-except block to handle the error and continue prompting the user until a valid quantity is entered.\n",
    "\n",
    "```python\n",
    "# Step 1: Define the function for initializing the inventory with error handling\n",
    "def initialize_inventory(products):\n",
    "    inventory = {}\n",
    "    for product in products:\n",
    "        valid_quantity = False\n",
    "        while not valid_quantity:\n",
    "            try:\n",
    "                quantity = int(input(f\"Enter the quantity of {product}s available: \"))\n",
    "                if quantity < 0:\n",
    "                    raise ValueError(\"Invalid quantity! Please enter a non-negative value.\")\n",
    "                valid_quantity = True\n",
    "            except ValueError as error:\n",
    "                print(f\"Error: {error}\")\n",
    "        inventory[product] = quantity\n",
    "    return inventory\n",
    "\n",
    "# Or, in another way:\n",
    "\n",
    "def initialize_inventory(products):\n",
    "    inventory = {}\n",
    "    for product in products:\n",
    "        valid_input = False\n",
    "        while not valid_input:\n",
    "            try:\n",
    "                quantity = int(input(f\"Enter the quantity of {product}s available: \"))\n",
    "                if quantity >= 0:\n",
    "                    inventory[product] = quantity\n",
    "                    valid_input = True\n",
    "                else:\n",
    "                    print(\"Quantity cannot be negative. Please enter a valid quantity.\")\n",
    "            except ValueError:\n",
    "                print(\"Invalid input. Please enter a valid quantity.\")\n",
    "    return inventory\n",
    "```\n",
    "\n",
    "Let's enhance your code by implementing error handling to handle invalid inputs.\n",
    "\n",
    "Follow the steps below to complete the exercise:\n",
    "\n",
    "2. Modify the `calculate_total_price` function to include error handling.\n",
    "   - If the user enters an invalid price (e.g., a negative value or a non-numeric value), display an error message and ask them to re-enter the price for that product.\n",
    "   - Use a try-except block to handle the error and continue prompting the user until a valid price is entered.\n",
    "\n",
    "3. Modify the `get_customer_orders` function to include error handling.\n",
    "   - If the user enters an invalid number of orders (e.g., a negative value or a non-numeric value), display an error message and ask them to re-enter the number of orders.\n",
    "   - If the user enters an invalid product name (e.g., a product name that is not in the inventory), or that doesn't have stock available, display an error message and ask them to re-enter the product name. *Hint: you will need to pass inventory as a parameter*\n",
    "   - Use a try-except block to handle the error and continue prompting the user until a valid product name is entered.\n",
    "\n",
    "4. Test your code by running the program and deliberately entering invalid quantities and product names. Make sure the error handling mechanism works as expected.\n"
   ]
  },
  {
   "cell_type": "code",
   "execution_count": 1,
   "id": "4e6feb6b-5475-45f8-83c0-16e59bc6890c",
   "metadata": {},
   "outputs": [],
   "source": [
    "# Step 1:  Define the function. \n",
    "def initialize_inventory(products): \n",
    "    inventory = {}\n",
    "    for product in products: \n",
    "        valid_quantity = False\n",
    "        while not valid_quantity: \n",
    "            try: \n",
    "                quantity = int(input(f\"Enter the quantity of {product}s available: \"))\n",
    "                if quantity < 0:\n",
    "                    raise ValueError(\"Invalid quantity! Please enter a non-negative value.\")\n",
    "                valid_quantity = True\n",
    "            except ValueError as error:\n",
    "                print(f\"Error: {error}\")\n",
    "        inventory[product] = quantity\n",
    "    return inventory \n"
   ]
  },
  {
   "cell_type": "code",
   "execution_count": 3,
   "id": "ee739863-6ee2-46b4-a3ae-c6c114ccad55",
   "metadata": {},
   "outputs": [
    {
     "name": "stdin",
     "output_type": "stream",
     "text": [
      "Enter the quantity of t-shirts available:  -1\n"
     ]
    },
    {
     "name": "stdout",
     "output_type": "stream",
     "text": [
      "Error: Invalid quantity! Please enter a non-negative value.\n"
     ]
    },
    {
     "name": "stdin",
     "output_type": "stream",
     "text": [
      "Enter the quantity of t-shirts available:  10\n",
      "Enter the quantity of mugs available:  10\n",
      "Enter the quantity of hats available:  10\n",
      "Enter the quantity of books available:  10\n",
      "Enter the quantity of keychains available:  10\n"
     ]
    }
   ],
   "source": [
    "products = [\"t-shirt\", \"mug\", \"hat\", \"book\", \"keychain\"]\n",
    "inventory = initialize_inventory (products)"
   ]
  },
  {
   "cell_type": "code",
   "execution_count": 5,
   "id": "f8f01924-0bac-4a0a-a0c6-00b9fa3c0b32",
   "metadata": {},
   "outputs": [],
   "source": [
    "def calculate_total_price(inventory):\n",
    "    total_price = 0\n",
    "    for product in inventory:\n",
    "        valid_price = False\n",
    "        while not valid_price:\n",
    "            try: \n",
    "                price = float(input(f\"Enter the price of {product}: \"))\n",
    "                if price <= 0:\n",
    "                    raise ValueError(\"Invalid price, please enter a non-negative value.\")\n",
    "                valid_price = True\n",
    "            except ValueError as error: \n",
    "                print(f\"Error: {error}\")\n",
    "        quantity = inventory [product]\n",
    "        total_price += price * quantity\n",
    "    return total_price "
   ]
  },
  {
   "cell_type": "code",
   "execution_count": 7,
   "id": "f4727657-8385-458a-9c43-618ae0947e45",
   "metadata": {},
   "outputs": [
    {
     "name": "stdin",
     "output_type": "stream",
     "text": [
      "Enter the price of t-shirt:  0\n"
     ]
    },
    {
     "name": "stdout",
     "output_type": "stream",
     "text": [
      "Error: Invalid price, please enter a non-negative value.\n"
     ]
    },
    {
     "name": "stdin",
     "output_type": "stream",
     "text": [
      "Enter the price of t-shirt:  15\n",
      "Enter the price of mug:  15\n",
      "Enter the price of hat:  15\n",
      "Enter the price of book:  15\n",
      "Enter the price of keychain:  15\n"
     ]
    },
    {
     "name": "stdout",
     "output_type": "stream",
     "text": [
      "Total price inventory: €750.00\n"
     ]
    }
   ],
   "source": [
    "total_price = calculate_total_price(inventory)\n",
    "print (f\"Total price inventory: €{total_price:.2f}\")"
   ]
  },
  {
   "cell_type": "code",
   "execution_count": 9,
   "id": "440ca89e-33d3-42d0-88f8-7c238d69b7b3",
   "metadata": {},
   "outputs": [],
   "source": [
    "# Modify the guest_customer_orders function\n",
    "def get_customer_orders(inventory):\n",
    "    customer_orders = {}\n",
    "    valid_order_number = False # Handle number of orders. \n",
    "    while not valid_order_number:\n",
    "        try:\n",
    "            num_orders = int(input(\"Enter the number of different products you want to order: \"))\n",
    "            if num_orders <= 0:\n",
    "                raise ValueError(\"The number of orders must be greater than 0.\")\n",
    "            valid_order_number = True\n",
    "        except ValueError as error: \n",
    "            print(f\"Error: {error}\")\n",
    "    for _ in range(num_orders):# Loop to get each order. \n",
    "        valid_product = False\n",
    "        while not valid_product:\n",
    "            try:\n",
    "                product_name = input(\"Enter the product name you want to order: \").strip()\n",
    "                if product_name not in inventory: \n",
    "                    raise ValueError(\"Product not found in inventory. Please enter a valid product name.\")\n",
    "                if inventory[product_name] <= 0:\n",
    "                    raise ValueError(f\"Sorry, {product_name} is out of stock. Please choose another product.\")\n",
    "                valid_product = True\n",
    "            except ValueError as error: \n",
    "                print(f\"Error: {error}\")\n",
    "        valid_quantity = False # Get quantity of product ordered. \n",
    "        while not valid_quantity: \n",
    "            try:\n",
    "                quantity = int(input(f\"Enter the quantity of {product_name} you want to order: \")) \n",
    "                if quantity <= 0: \n",
    "                    raise ValueError(\"Quantity must be greater than 0.\")\n",
    "                if quantity > inventory[product_name]:\n",
    "                    raise ValueError(f\"Sorry, we only have {inventory[product_name]} {product_name}(s) in stock.\")\n",
    "                valid_quantity = True\n",
    "            except ValueError as Error: \n",
    "                print(f\"Error: {error}\")\n",
    "        #Add orders to the customer orders. \n",
    "        customer_orders[product_name] = quantity \n",
    "        inventory[product_name] -= quantity #Update inventory \n",
    "    return customer_orders"
   ]
  },
  {
   "cell_type": "code",
   "execution_count": 11,
   "id": "eba95477-8051-4024-9b12-4e006b7d6b51",
   "metadata": {},
   "outputs": [
    {
     "name": "stdin",
     "output_type": "stream",
     "text": [
      "Enter the number of different products you want to order:  0\n"
     ]
    },
    {
     "name": "stdout",
     "output_type": "stream",
     "text": [
      "Error: The number of orders must be greater than 0.\n"
     ]
    },
    {
     "name": "stdin",
     "output_type": "stream",
     "text": [
      "Enter the number of different products you want to order:  3\n",
      "Enter the product name you want to order:  water\n"
     ]
    },
    {
     "name": "stdout",
     "output_type": "stream",
     "text": [
      "Error: Product not found in inventory. Please enter a valid product name.\n"
     ]
    },
    {
     "name": "stdin",
     "output_type": "stream",
     "text": [
      "Enter the product name you want to order:  t-shirt\n",
      "Enter the quantity of t-shirt you want to order:  1\n",
      "Enter the product name you want to order:  mug\n",
      "Enter the quantity of mug you want to order:  1\n",
      "Enter the product name you want to order:  hat\n",
      "Enter the quantity of hat you want to order:  0\n"
     ]
    },
    {
     "ename": "UnboundLocalError",
     "evalue": "cannot access local variable 'error' where it is not associated with a value",
     "output_type": "error",
     "traceback": [
      "\u001b[0;31m---------------------------------------------------------------------------\u001b[0m",
      "\u001b[0;31mValueError\u001b[0m                                Traceback (most recent call last)",
      "Cell \u001b[0;32mIn[9], line 30\u001b[0m, in \u001b[0;36mget_customer_orders\u001b[0;34m(inventory)\u001b[0m\n\u001b[1;32m     29\u001b[0m \u001b[38;5;28;01mif\u001b[39;00m quantity \u001b[38;5;241m<\u001b[39m\u001b[38;5;241m=\u001b[39m \u001b[38;5;241m0\u001b[39m: \n\u001b[0;32m---> 30\u001b[0m     \u001b[38;5;28;01mraise\u001b[39;00m \u001b[38;5;167;01mValueError\u001b[39;00m(\u001b[38;5;124m\"\u001b[39m\u001b[38;5;124mQuantity must be greater than 0.\u001b[39m\u001b[38;5;124m\"\u001b[39m)\n\u001b[1;32m     31\u001b[0m \u001b[38;5;28;01mif\u001b[39;00m quantity \u001b[38;5;241m>\u001b[39m inventory[product_name]:\n",
      "\u001b[0;31mValueError\u001b[0m: Quantity must be greater than 0.",
      "\nDuring handling of the above exception, another exception occurred:\n",
      "\u001b[0;31mUnboundLocalError\u001b[0m                         Traceback (most recent call last)",
      "Cell \u001b[0;32mIn[11], line 1\u001b[0m\n\u001b[0;32m----> 1\u001b[0m customer_orders \u001b[38;5;241m=\u001b[39m get_customer_orders(inventory)\n\u001b[1;32m      2\u001b[0m \u001b[38;5;28mprint\u001b[39m(\u001b[38;5;124m\"\u001b[39m\u001b[38;5;124mCustomer Orders:\u001b[39m\u001b[38;5;124m\"\u001b[39m)\n\u001b[1;32m      3\u001b[0m \u001b[38;5;28;01mfor\u001b[39;00m product, quantity \u001b[38;5;129;01min\u001b[39;00m customer_orders\u001b[38;5;241m.\u001b[39mitems():\n",
      "Cell \u001b[0;32mIn[9], line 35\u001b[0m, in \u001b[0;36mget_customer_orders\u001b[0;34m(inventory)\u001b[0m\n\u001b[1;32m     33\u001b[0m         valid_quantity \u001b[38;5;241m=\u001b[39m \u001b[38;5;28;01mTrue\u001b[39;00m\n\u001b[1;32m     34\u001b[0m     \u001b[38;5;28;01mexcept\u001b[39;00m \u001b[38;5;167;01mValueError\u001b[39;00m \u001b[38;5;28;01mas\u001b[39;00m Error: \n\u001b[0;32m---> 35\u001b[0m         \u001b[38;5;28mprint\u001b[39m(\u001b[38;5;124mf\u001b[39m\u001b[38;5;124m\"\u001b[39m\u001b[38;5;124mError: \u001b[39m\u001b[38;5;132;01m{\u001b[39;00merror\u001b[38;5;132;01m}\u001b[39;00m\u001b[38;5;124m\"\u001b[39m)\n\u001b[1;32m     36\u001b[0m \u001b[38;5;66;03m#Add orders to the customer orders. \u001b[39;00m\n\u001b[1;32m     37\u001b[0m customer_orders[product_name] \u001b[38;5;241m=\u001b[39m quantity \n",
      "\u001b[0;31mUnboundLocalError\u001b[0m: cannot access local variable 'error' where it is not associated with a value"
     ]
    }
   ],
   "source": [
    "customer_orders = get_customer_orders(inventory)\n",
    "print(\"Customer Orders:\")\n",
    "for product, quantity in customer_orders.items():\n",
    "    print(f\"{product}: {quantity}\")"
   ]
  },
  {
   "cell_type": "code",
   "execution_count": null,
   "id": "4a8648c6-c637-4c18-b3b1-50d21bdc37a5",
   "metadata": {},
   "outputs": [],
   "source": []
  }
 ],
 "metadata": {
  "kernelspec": {
   "display_name": "Python 3 (ipykernel)",
   "language": "python",
   "name": "python3"
  },
  "language_info": {
   "codemirror_mode": {
    "name": "ipython",
    "version": 3
   },
   "file_extension": ".py",
   "mimetype": "text/x-python",
   "name": "python",
   "nbconvert_exporter": "python",
   "pygments_lexer": "ipython3",
   "version": "3.12.4"
  }
 },
 "nbformat": 4,
 "nbformat_minor": 5
}
